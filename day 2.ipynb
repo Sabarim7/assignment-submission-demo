{
  "nbformat": 4,
  "nbformat_minor": 0,
  "metadata": {
    "colab": {
      "name": "Untitled0.ipynb",
      "provenance": []
    },
    "kernelspec": {
      "name": "python3",
      "display_name": "Python 3"
    },
    "language_info": {
      "name": "python"
    }
  },
  "cells": [
    {
      "cell_type": "code",
      "metadata": {
        "colab": {
          "base_uri": "https://localhost:8080/"
        },
        "id": "DdE_Bqocsp3k",
        "outputId": "68e73fa0-e60b-4480-91fe-f6f207b68d48"
      },
      "source": [
        "lista = list(int(num) for num in input(\"Enter the list items separated by space\").strip().split())\n",
        "print(\"User list:\", lista)"
      ],
      "execution_count": 24,
      "outputs": [
        {
          "output_type": "stream",
          "name": "stdout",
          "text": [
            "Enter the list items separated by space1 2 3 4 5\n",
            "User list: [1, 2, 3, 4, 5]\n"
          ]
        }
      ]
    },
    {
      "cell_type": "code",
      "metadata": {
        "id": "xsdIYthlw0FK"
      },
      "source": [
        "evenlist = []\n",
        "for i in lista:\n",
        "  if(i%2==0):\n",
        "    evenlist.append(i)"
      ],
      "execution_count": 28,
      "outputs": []
    },
    {
      "cell_type": "code",
      "metadata": {
        "colab": {
          "base_uri": "https://localhost:8080/"
        },
        "id": "BxvLKcB5xg_R",
        "outputId": "38463179-20fc-4912-bc04-0dee39503917"
      },
      "source": [
        "print(evenlist)\n"
      ],
      "execution_count": 29,
      "outputs": [
        {
          "output_type": "stream",
          "name": "stdout",
          "text": [
            "[2, 4]\n"
          ]
        }
      ]
    }
  ]
}