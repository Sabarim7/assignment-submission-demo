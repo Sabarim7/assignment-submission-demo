{
  "nbformat": 4,
  "nbformat_minor": 0,
  "metadata": {
    "colab": {
      "name": "Untitled1.ipynb",
      "provenance": []
    },
    "kernelspec": {
      "name": "python3",
      "display_name": "Python 3"
    },
    "language_info": {
      "name": "python"
    }
  },
  "cells": [
    {
      "cell_type": "code",
      "metadata": {
        "id": "SfsIJHZhswKp"
      },
      "source": [
        "import numpy as np\n",
        "import pandas as pd "
      ],
      "execution_count": 1,
      "outputs": []
    },
    {
      "cell_type": "code",
      "metadata": {
        "id": "KlVhvQjNtxCe"
      },
      "source": [
        "df=pd.DataFrame(np.random.randn(5,4),index=['Row1','Row2','Row3','Row4','Row5'],columns=[\"column1\",\"column2\",\"column3\",\"column4\"])"
      ],
      "execution_count": 5,
      "outputs": []
    },
    {
      "cell_type": "code",
      "metadata": {
        "colab": {
          "base_uri": "https://localhost:8080/",
          "height": 204
        },
        "id": "MjHp6WpkvxZR",
        "outputId": "82d9a4d4-14d9-4e52-bbcc-a74518752b86"
      },
      "source": [
        "df.head()"
      ],
      "execution_count": 6,
      "outputs": [
        {
          "output_type": "execute_result",
          "data": {
            "text/html": [
              "<div>\n",
              "<style scoped>\n",
              "    .dataframe tbody tr th:only-of-type {\n",
              "        vertical-align: middle;\n",
              "    }\n",
              "\n",
              "    .dataframe tbody tr th {\n",
              "        vertical-align: top;\n",
              "    }\n",
              "\n",
              "    .dataframe thead th {\n",
              "        text-align: right;\n",
              "    }\n",
              "</style>\n",
              "<table border=\"1\" class=\"dataframe\">\n",
              "  <thead>\n",
              "    <tr style=\"text-align: right;\">\n",
              "      <th></th>\n",
              "      <th>column1</th>\n",
              "      <th>column2</th>\n",
              "      <th>column3</th>\n",
              "      <th>column4</th>\n",
              "    </tr>\n",
              "  </thead>\n",
              "  <tbody>\n",
              "    <tr>\n",
              "      <th>Row1</th>\n",
              "      <td>0.108323</td>\n",
              "      <td>-0.321577</td>\n",
              "      <td>-0.564994</td>\n",
              "      <td>-1.796412</td>\n",
              "    </tr>\n",
              "    <tr>\n",
              "      <th>Row2</th>\n",
              "      <td>0.014249</td>\n",
              "      <td>-0.198544</td>\n",
              "      <td>0.202957</td>\n",
              "      <td>0.804239</td>\n",
              "    </tr>\n",
              "    <tr>\n",
              "      <th>Row3</th>\n",
              "      <td>-0.676582</td>\n",
              "      <td>-0.709335</td>\n",
              "      <td>-1.534230</td>\n",
              "      <td>0.320310</td>\n",
              "    </tr>\n",
              "    <tr>\n",
              "      <th>Row4</th>\n",
              "      <td>-0.096326</td>\n",
              "      <td>0.841706</td>\n",
              "      <td>0.603979</td>\n",
              "      <td>0.495625</td>\n",
              "    </tr>\n",
              "    <tr>\n",
              "      <th>Row5</th>\n",
              "      <td>1.105248</td>\n",
              "      <td>-0.279567</td>\n",
              "      <td>0.018206</td>\n",
              "      <td>0.231868</td>\n",
              "    </tr>\n",
              "  </tbody>\n",
              "</table>\n",
              "</div>"
            ],
            "text/plain": [
              "       column1   column2   column3   column4\n",
              "Row1  0.108323 -0.321577 -0.564994 -1.796412\n",
              "Row2  0.014249 -0.198544  0.202957  0.804239\n",
              "Row3 -0.676582 -0.709335 -1.534230  0.320310\n",
              "Row4 -0.096326  0.841706  0.603979  0.495625\n",
              "Row5  1.105248 -0.279567  0.018206  0.231868"
            ]
          },
          "metadata": {},
          "execution_count": 6
        }
      ]
    },
    {
      "cell_type": "code",
      "metadata": {
        "colab": {
          "base_uri": "https://localhost:8080/"
        },
        "id": "PIuUCwHnv4C8",
        "outputId": "3e8badd1-0bad-4ccc-d140-ad78fe80d57e"
      },
      "source": [
        "df['column4']"
      ],
      "execution_count": 7,
      "outputs": [
        {
          "output_type": "execute_result",
          "data": {
            "text/plain": [
              "Row1   -1.796412\n",
              "Row2    0.804239\n",
              "Row3    0.320310\n",
              "Row4    0.495625\n",
              "Row5    0.231868\n",
              "Name: column4, dtype: float64"
            ]
          },
          "metadata": {},
          "execution_count": 7
        }
      ]
    },
    {
      "cell_type": "code",
      "metadata": {
        "colab": {
          "base_uri": "https://localhost:8080/",
          "height": 204
        },
        "id": "W78sFVwPwB93",
        "outputId": "f42c2e59-2680-4246-caa7-91cff133b989"
      },
      "source": [
        "df[['column3','column1']]"
      ],
      "execution_count": 10,
      "outputs": [
        {
          "output_type": "execute_result",
          "data": {
            "text/html": [
              "<div>\n",
              "<style scoped>\n",
              "    .dataframe tbody tr th:only-of-type {\n",
              "        vertical-align: middle;\n",
              "    }\n",
              "\n",
              "    .dataframe tbody tr th {\n",
              "        vertical-align: top;\n",
              "    }\n",
              "\n",
              "    .dataframe thead th {\n",
              "        text-align: right;\n",
              "    }\n",
              "</style>\n",
              "<table border=\"1\" class=\"dataframe\">\n",
              "  <thead>\n",
              "    <tr style=\"text-align: right;\">\n",
              "      <th></th>\n",
              "      <th>column3</th>\n",
              "      <th>column1</th>\n",
              "    </tr>\n",
              "  </thead>\n",
              "  <tbody>\n",
              "    <tr>\n",
              "      <th>Row1</th>\n",
              "      <td>-0.564994</td>\n",
              "      <td>0.108323</td>\n",
              "    </tr>\n",
              "    <tr>\n",
              "      <th>Row2</th>\n",
              "      <td>0.202957</td>\n",
              "      <td>0.014249</td>\n",
              "    </tr>\n",
              "    <tr>\n",
              "      <th>Row3</th>\n",
              "      <td>-1.534230</td>\n",
              "      <td>-0.676582</td>\n",
              "    </tr>\n",
              "    <tr>\n",
              "      <th>Row4</th>\n",
              "      <td>0.603979</td>\n",
              "      <td>-0.096326</td>\n",
              "    </tr>\n",
              "    <tr>\n",
              "      <th>Row5</th>\n",
              "      <td>0.018206</td>\n",
              "      <td>1.105248</td>\n",
              "    </tr>\n",
              "  </tbody>\n",
              "</table>\n",
              "</div>"
            ],
            "text/plain": [
              "       column3   column1\n",
              "Row1 -0.564994  0.108323\n",
              "Row2  0.202957  0.014249\n",
              "Row3 -1.534230 -0.676582\n",
              "Row4  0.603979 -0.096326\n",
              "Row5  0.018206  1.105248"
            ]
          },
          "metadata": {},
          "execution_count": 10
        }
      ]
    },
    {
      "cell_type": "code",
      "metadata": {
        "colab": {
          "base_uri": "https://localhost:8080/"
        },
        "id": "-2fCfKLtwSDQ",
        "outputId": "4c99617c-1b10-47c3-98f0-39f710e6a195"
      },
      "source": [
        "df.loc['Row4']"
      ],
      "execution_count": 11,
      "outputs": [
        {
          "output_type": "execute_result",
          "data": {
            "text/plain": [
              "column1   -0.096326\n",
              "column2    0.841706\n",
              "column3    0.603979\n",
              "column4    0.495625\n",
              "Name: Row4, dtype: float64"
            ]
          },
          "metadata": {},
          "execution_count": 11
        }
      ]
    },
    {
      "cell_type": "code",
      "metadata": {
        "colab": {
          "base_uri": "https://localhost:8080/"
        },
        "id": "9iW-zjHywa8Q",
        "outputId": "fe460158-97f6-4af3-829c-4054aaae9ba3"
      },
      "source": [
        "df.loc['Row4']"
      ],
      "execution_count": 12,
      "outputs": [
        {
          "output_type": "execute_result",
          "data": {
            "text/plain": [
              "column1   -0.096326\n",
              "column2    0.841706\n",
              "column3    0.603979\n",
              "column4    0.495625\n",
              "Name: Row4, dtype: float64"
            ]
          },
          "metadata": {},
          "execution_count": 12
        }
      ]
    },
    {
      "cell_type": "code",
      "metadata": {
        "colab": {
          "base_uri": "https://localhost:8080/",
          "height": 204
        },
        "id": "UHu1Vnduwj3l",
        "outputId": "0a2b3b4b-a79e-4e6f-eb8c-a88a31f33213"
      },
      "source": [
        "df.iloc[:,1:3]"
      ],
      "execution_count": 13,
      "outputs": [
        {
          "output_type": "execute_result",
          "data": {
            "text/html": [
              "<div>\n",
              "<style scoped>\n",
              "    .dataframe tbody tr th:only-of-type {\n",
              "        vertical-align: middle;\n",
              "    }\n",
              "\n",
              "    .dataframe tbody tr th {\n",
              "        vertical-align: top;\n",
              "    }\n",
              "\n",
              "    .dataframe thead th {\n",
              "        text-align: right;\n",
              "    }\n",
              "</style>\n",
              "<table border=\"1\" class=\"dataframe\">\n",
              "  <thead>\n",
              "    <tr style=\"text-align: right;\">\n",
              "      <th></th>\n",
              "      <th>column2</th>\n",
              "      <th>column3</th>\n",
              "    </tr>\n",
              "  </thead>\n",
              "  <tbody>\n",
              "    <tr>\n",
              "      <th>Row1</th>\n",
              "      <td>-0.321577</td>\n",
              "      <td>-0.564994</td>\n",
              "    </tr>\n",
              "    <tr>\n",
              "      <th>Row2</th>\n",
              "      <td>-0.198544</td>\n",
              "      <td>0.202957</td>\n",
              "    </tr>\n",
              "    <tr>\n",
              "      <th>Row3</th>\n",
              "      <td>-0.709335</td>\n",
              "      <td>-1.534230</td>\n",
              "    </tr>\n",
              "    <tr>\n",
              "      <th>Row4</th>\n",
              "      <td>0.841706</td>\n",
              "      <td>0.603979</td>\n",
              "    </tr>\n",
              "    <tr>\n",
              "      <th>Row5</th>\n",
              "      <td>-0.279567</td>\n",
              "      <td>0.018206</td>\n",
              "    </tr>\n",
              "  </tbody>\n",
              "</table>\n",
              "</div>"
            ],
            "text/plain": [
              "       column2   column3\n",
              "Row1 -0.321577 -0.564994\n",
              "Row2 -0.198544  0.202957\n",
              "Row3 -0.709335 -1.534230\n",
              "Row4  0.841706  0.603979\n",
              "Row5 -0.279567  0.018206"
            ]
          },
          "metadata": {},
          "execution_count": 13
        }
      ]
    },
    {
      "cell_type": "code",
      "metadata": {
        "colab": {
          "base_uri": "https://localhost:8080/"
        },
        "id": "xgjLEW21wxJo",
        "outputId": "cca6a5ad-a3a6-49f1-ae38-ef7c45328d8b"
      },
      "source": [
        "df.iloc[:,1:3].values"
      ],
      "execution_count": 14,
      "outputs": [
        {
          "output_type": "execute_result",
          "data": {
            "text/plain": [
              "array([[-0.3215771 , -0.56499359],\n",
              "       [-0.19854391,  0.20295666],\n",
              "       [-0.70933544, -1.53423031],\n",
              "       [ 0.84170577,  0.60397935],\n",
              "       [-0.27956671,  0.01820574]])"
            ]
          },
          "metadata": {},
          "execution_count": 14
        }
      ]
    },
    {
      "cell_type": "code",
      "metadata": {
        "colab": {
          "base_uri": "https://localhost:8080/"
        },
        "id": "TPQ5-pwFw8PC",
        "outputId": "9da574e5-6ea9-4194-ef92-84bf9c0d81a5"
      },
      "source": [
        "df.isnull().sum()"
      ],
      "execution_count": 15,
      "outputs": [
        {
          "output_type": "execute_result",
          "data": {
            "text/plain": [
              "column1    0\n",
              "column2    0\n",
              "column3    0\n",
              "column4    0\n",
              "dtype: int64"
            ]
          },
          "metadata": {},
          "execution_count": 15
        }
      ]
    },
    {
      "cell_type": "code",
      "metadata": {
        "colab": {
          "base_uri": "https://localhost:8080/"
        },
        "id": "gGyc1hpjxIXP",
        "outputId": "10ef9c38-2318-4f68-bb4d-eb1f871877ee"
      },
      "source": [
        "df['column1'].unique()"
      ],
      "execution_count": 16,
      "outputs": [
        {
          "output_type": "execute_result",
          "data": {
            "text/plain": [
              "array([ 0.1083235 ,  0.01424874, -0.6765823 , -0.09632589,  1.10524845])"
            ]
          },
          "metadata": {},
          "execution_count": 16
        }
      ]
    },
    {
      "cell_type": "code",
      "metadata": {
        "colab": {
          "base_uri": "https://localhost:8080/",
          "height": 297
        },
        "id": "0E4rBj4pxQ8R",
        "outputId": "1c477259-a5d2-460b-eacc-32c689dba938"
      },
      "source": [
        "df.describe()"
      ],
      "execution_count": 17,
      "outputs": [
        {
          "output_type": "execute_result",
          "data": {
            "text/html": [
              "<div>\n",
              "<style scoped>\n",
              "    .dataframe tbody tr th:only-of-type {\n",
              "        vertical-align: middle;\n",
              "    }\n",
              "\n",
              "    .dataframe tbody tr th {\n",
              "        vertical-align: top;\n",
              "    }\n",
              "\n",
              "    .dataframe thead th {\n",
              "        text-align: right;\n",
              "    }\n",
              "</style>\n",
              "<table border=\"1\" class=\"dataframe\">\n",
              "  <thead>\n",
              "    <tr style=\"text-align: right;\">\n",
              "      <th></th>\n",
              "      <th>column1</th>\n",
              "      <th>column2</th>\n",
              "      <th>column3</th>\n",
              "      <th>column4</th>\n",
              "    </tr>\n",
              "  </thead>\n",
              "  <tbody>\n",
              "    <tr>\n",
              "      <th>count</th>\n",
              "      <td>5.000000</td>\n",
              "      <td>5.000000</td>\n",
              "      <td>5.000000</td>\n",
              "      <td>5.000000</td>\n",
              "    </tr>\n",
              "    <tr>\n",
              "      <th>mean</th>\n",
              "      <td>0.090983</td>\n",
              "      <td>-0.133463</td>\n",
              "      <td>-0.254816</td>\n",
              "      <td>0.011126</td>\n",
              "    </tr>\n",
              "    <tr>\n",
              "      <th>std</th>\n",
              "      <td>0.644043</td>\n",
              "      <td>0.579558</td>\n",
              "      <td>0.829870</td>\n",
              "      <td>1.033838</td>\n",
              "    </tr>\n",
              "    <tr>\n",
              "      <th>min</th>\n",
              "      <td>-0.676582</td>\n",
              "      <td>-0.709335</td>\n",
              "      <td>-1.534230</td>\n",
              "      <td>-1.796412</td>\n",
              "    </tr>\n",
              "    <tr>\n",
              "      <th>25%</th>\n",
              "      <td>-0.096326</td>\n",
              "      <td>-0.321577</td>\n",
              "      <td>-0.564994</td>\n",
              "      <td>0.231868</td>\n",
              "    </tr>\n",
              "    <tr>\n",
              "      <th>50%</th>\n",
              "      <td>0.014249</td>\n",
              "      <td>-0.279567</td>\n",
              "      <td>0.018206</td>\n",
              "      <td>0.320310</td>\n",
              "    </tr>\n",
              "    <tr>\n",
              "      <th>75%</th>\n",
              "      <td>0.108323</td>\n",
              "      <td>-0.198544</td>\n",
              "      <td>0.202957</td>\n",
              "      <td>0.495625</td>\n",
              "    </tr>\n",
              "    <tr>\n",
              "      <th>max</th>\n",
              "      <td>1.105248</td>\n",
              "      <td>0.841706</td>\n",
              "      <td>0.603979</td>\n",
              "      <td>0.804239</td>\n",
              "    </tr>\n",
              "  </tbody>\n",
              "</table>\n",
              "</div>"
            ],
            "text/plain": [
              "        column1   column2   column3   column4\n",
              "count  5.000000  5.000000  5.000000  5.000000\n",
              "mean   0.090983 -0.133463 -0.254816  0.011126\n",
              "std    0.644043  0.579558  0.829870  1.033838\n",
              "min   -0.676582 -0.709335 -1.534230 -1.796412\n",
              "25%   -0.096326 -0.321577 -0.564994  0.231868\n",
              "50%    0.014249 -0.279567  0.018206  0.320310\n",
              "75%    0.108323 -0.198544  0.202957  0.495625\n",
              "max    1.105248  0.841706  0.603979  0.804239"
            ]
          },
          "metadata": {},
          "execution_count": 17
        }
      ]
    },
    {
      "cell_type": "code",
      "metadata": {
        "colab": {
          "base_uri": "https://localhost:8080/"
        },
        "id": "Yap_GE0Sxd-6",
        "outputId": "505225ed-49d0-4044-a480-c06dab585b34"
      },
      "source": [
        "df.info()"
      ],
      "execution_count": 18,
      "outputs": [
        {
          "output_type": "stream",
          "name": "stdout",
          "text": [
            "<class 'pandas.core.frame.DataFrame'>\n",
            "Index: 5 entries, Row1 to Row5\n",
            "Data columns (total 4 columns):\n",
            " #   Column   Non-Null Count  Dtype  \n",
            "---  ------   --------------  -----  \n",
            " 0   column1  5 non-null      float64\n",
            " 1   column2  5 non-null      float64\n",
            " 2   column3  5 non-null      float64\n",
            " 3   column4  5 non-null      float64\n",
            "dtypes: float64(4)\n",
            "memory usage: 360.0+ bytes\n"
          ]
        }
      ]
    },
    {
      "cell_type": "code",
      "metadata": {
        "colab": {
          "base_uri": "https://localhost:8080/",
          "height": 173
        },
        "id": "XhJ0AwySxkMm",
        "outputId": "e4ff0053-186d-4fcd-aaa6-540acee871e1"
      },
      "source": [
        "df[df['column4']>0]"
      ],
      "execution_count": 19,
      "outputs": [
        {
          "output_type": "execute_result",
          "data": {
            "text/html": [
              "<div>\n",
              "<style scoped>\n",
              "    .dataframe tbody tr th:only-of-type {\n",
              "        vertical-align: middle;\n",
              "    }\n",
              "\n",
              "    .dataframe tbody tr th {\n",
              "        vertical-align: top;\n",
              "    }\n",
              "\n",
              "    .dataframe thead th {\n",
              "        text-align: right;\n",
              "    }\n",
              "</style>\n",
              "<table border=\"1\" class=\"dataframe\">\n",
              "  <thead>\n",
              "    <tr style=\"text-align: right;\">\n",
              "      <th></th>\n",
              "      <th>column1</th>\n",
              "      <th>column2</th>\n",
              "      <th>column3</th>\n",
              "      <th>column4</th>\n",
              "    </tr>\n",
              "  </thead>\n",
              "  <tbody>\n",
              "    <tr>\n",
              "      <th>Row2</th>\n",
              "      <td>0.014249</td>\n",
              "      <td>-0.198544</td>\n",
              "      <td>0.202957</td>\n",
              "      <td>0.804239</td>\n",
              "    </tr>\n",
              "    <tr>\n",
              "      <th>Row3</th>\n",
              "      <td>-0.676582</td>\n",
              "      <td>-0.709335</td>\n",
              "      <td>-1.534230</td>\n",
              "      <td>0.320310</td>\n",
              "    </tr>\n",
              "    <tr>\n",
              "      <th>Row4</th>\n",
              "      <td>-0.096326</td>\n",
              "      <td>0.841706</td>\n",
              "      <td>0.603979</td>\n",
              "      <td>0.495625</td>\n",
              "    </tr>\n",
              "    <tr>\n",
              "      <th>Row5</th>\n",
              "      <td>1.105248</td>\n",
              "      <td>-0.279567</td>\n",
              "      <td>0.018206</td>\n",
              "      <td>0.231868</td>\n",
              "    </tr>\n",
              "  </tbody>\n",
              "</table>\n",
              "</div>"
            ],
            "text/plain": [
              "       column1   column2   column3   column4\n",
              "Row2  0.014249 -0.198544  0.202957  0.804239\n",
              "Row3 -0.676582 -0.709335 -1.534230  0.320310\n",
              "Row4 -0.096326  0.841706  0.603979  0.495625\n",
              "Row5  1.105248 -0.279567  0.018206  0.231868"
            ]
          },
          "metadata": {},
          "execution_count": 19
        }
      ]
    },
    {
      "cell_type": "code",
      "metadata": {
        "colab": {
          "base_uri": "https://localhost:8080/",
          "height": 173
        },
        "id": "megUMYuhxvtW",
        "outputId": "245bcc05-915c-4c1f-d049-d50a3d1e7fa6"
      },
      "source": [
        "df.corr()"
      ],
      "execution_count": 20,
      "outputs": [
        {
          "output_type": "execute_result",
          "data": {
            "text/html": [
              "<div>\n",
              "<style scoped>\n",
              "    .dataframe tbody tr th:only-of-type {\n",
              "        vertical-align: middle;\n",
              "    }\n",
              "\n",
              "    .dataframe tbody tr th {\n",
              "        vertical-align: top;\n",
              "    }\n",
              "\n",
              "    .dataframe thead th {\n",
              "        text-align: right;\n",
              "    }\n",
              "</style>\n",
              "<table border=\"1\" class=\"dataframe\">\n",
              "  <thead>\n",
              "    <tr style=\"text-align: right;\">\n",
              "      <th></th>\n",
              "      <th>column1</th>\n",
              "      <th>column2</th>\n",
              "      <th>column3</th>\n",
              "      <th>column4</th>\n",
              "    </tr>\n",
              "  </thead>\n",
              "  <tbody>\n",
              "    <tr>\n",
              "      <th>column1</th>\n",
              "      <td>1.000000</td>\n",
              "      <td>0.075621</td>\n",
              "      <td>0.494687</td>\n",
              "      <td>-0.073735</td>\n",
              "    </tr>\n",
              "    <tr>\n",
              "      <th>column2</th>\n",
              "      <td>0.075621</td>\n",
              "      <td>1.000000</td>\n",
              "      <td>0.812397</td>\n",
              "      <td>0.229724</td>\n",
              "    </tr>\n",
              "    <tr>\n",
              "      <th>column3</th>\n",
              "      <td>0.494687</td>\n",
              "      <td>0.812397</td>\n",
              "      <td>1.000000</td>\n",
              "      <td>0.292704</td>\n",
              "    </tr>\n",
              "    <tr>\n",
              "      <th>column4</th>\n",
              "      <td>-0.073735</td>\n",
              "      <td>0.229724</td>\n",
              "      <td>0.292704</td>\n",
              "      <td>1.000000</td>\n",
              "    </tr>\n",
              "  </tbody>\n",
              "</table>\n",
              "</div>"
            ],
            "text/plain": [
              "          column1   column2   column3   column4\n",
              "column1  1.000000  0.075621  0.494687 -0.073735\n",
              "column2  0.075621  1.000000  0.812397  0.229724\n",
              "column3  0.494687  0.812397  1.000000  0.292704\n",
              "column4 -0.073735  0.229724  0.292704  1.000000"
            ]
          },
          "metadata": {},
          "execution_count": 20
        }
      ]
    },
    {
      "cell_type": "code",
      "metadata": {
        "colab": {
          "base_uri": "https://localhost:8080/",
          "height": 173
        },
        "id": "iplwqnrhx2cE",
        "outputId": "fca78bbb-c828-4b3a-d802-52379a4b45e2"
      },
      "source": [
        "df[df['column4']>0]"
      ],
      "execution_count": 21,
      "outputs": [
        {
          "output_type": "execute_result",
          "data": {
            "text/html": [
              "<div>\n",
              "<style scoped>\n",
              "    .dataframe tbody tr th:only-of-type {\n",
              "        vertical-align: middle;\n",
              "    }\n",
              "\n",
              "    .dataframe tbody tr th {\n",
              "        vertical-align: top;\n",
              "    }\n",
              "\n",
              "    .dataframe thead th {\n",
              "        text-align: right;\n",
              "    }\n",
              "</style>\n",
              "<table border=\"1\" class=\"dataframe\">\n",
              "  <thead>\n",
              "    <tr style=\"text-align: right;\">\n",
              "      <th></th>\n",
              "      <th>column1</th>\n",
              "      <th>column2</th>\n",
              "      <th>column3</th>\n",
              "      <th>column4</th>\n",
              "    </tr>\n",
              "  </thead>\n",
              "  <tbody>\n",
              "    <tr>\n",
              "      <th>Row2</th>\n",
              "      <td>0.014249</td>\n",
              "      <td>-0.198544</td>\n",
              "      <td>0.202957</td>\n",
              "      <td>0.804239</td>\n",
              "    </tr>\n",
              "    <tr>\n",
              "      <th>Row3</th>\n",
              "      <td>-0.676582</td>\n",
              "      <td>-0.709335</td>\n",
              "      <td>-1.534230</td>\n",
              "      <td>0.320310</td>\n",
              "    </tr>\n",
              "    <tr>\n",
              "      <th>Row4</th>\n",
              "      <td>-0.096326</td>\n",
              "      <td>0.841706</td>\n",
              "      <td>0.603979</td>\n",
              "      <td>0.495625</td>\n",
              "    </tr>\n",
              "    <tr>\n",
              "      <th>Row5</th>\n",
              "      <td>1.105248</td>\n",
              "      <td>-0.279567</td>\n",
              "      <td>0.018206</td>\n",
              "      <td>0.231868</td>\n",
              "    </tr>\n",
              "  </tbody>\n",
              "</table>\n",
              "</div>"
            ],
            "text/plain": [
              "       column1   column2   column3   column4\n",
              "Row2  0.014249 -0.198544  0.202957  0.804239\n",
              "Row3 -0.676582 -0.709335 -1.534230  0.320310\n",
              "Row4 -0.096326  0.841706  0.603979  0.495625\n",
              "Row5  1.105248 -0.279567  0.018206  0.231868"
            ]
          },
          "metadata": {},
          "execution_count": 21
        }
      ]
    }
  ]
}